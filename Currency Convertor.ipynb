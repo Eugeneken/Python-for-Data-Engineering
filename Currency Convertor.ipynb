{
 "cells": [
  {
   "cell_type": "markdown",
   "id": "8fc5b8b9",
   "metadata": {},
   "source": [
    "# Currency Convertor"
   ]
  },
  {
   "cell_type": "code",
   "execution_count": 1,
   "id": "655c7a5f",
   "metadata": {},
   "outputs": [
    {
     "name": "stdout",
     "output_type": "stream",
     "text": [
      "Collecting forex_python\n",
      "  Downloading forex_python-1.8-py3-none-any.whl (8.2 kB)\n",
      "Requirement already satisfied: requests in c:\\users\\keneu\\appdata\\local\\anaconda3\\lib\\site-packages (from forex_python) (2.31.0)\n",
      "Collecting simplejson (from forex_python)\n",
      "  Obtaining dependency information for simplejson from https://files.pythonhosted.org/packages/b6/8e/3e12d122dfdf549a8d12eaf39954ee39f2027060aa38b63430f8ab3244e7/simplejson-3.19.2-cp311-cp311-win_amd64.whl.metadata\n",
      "  Downloading simplejson-3.19.2-cp311-cp311-win_amd64.whl.metadata (3.2 kB)\n",
      "Requirement already satisfied: charset-normalizer<4,>=2 in c:\\users\\keneu\\appdata\\local\\anaconda3\\lib\\site-packages (from requests->forex_python) (2.0.4)\n",
      "Requirement already satisfied: idna<4,>=2.5 in c:\\users\\keneu\\appdata\\local\\anaconda3\\lib\\site-packages (from requests->forex_python) (3.4)\n",
      "Requirement already satisfied: urllib3<3,>=1.21.1 in c:\\users\\keneu\\appdata\\local\\anaconda3\\lib\\site-packages (from requests->forex_python) (1.26.16)\n",
      "Requirement already satisfied: certifi>=2017.4.17 in c:\\users\\keneu\\appdata\\local\\anaconda3\\lib\\site-packages (from requests->forex_python) (2023.7.22)\n",
      "Downloading simplejson-3.19.2-cp311-cp311-win_amd64.whl (75 kB)\n",
      "   ---------------------------------------- 0.0/75.3 kB ? eta -:--:--\n",
      "   ----- ---------------------------------- 10.2/75.3 kB ? eta -:--:--\n",
      "   ---------------- ----------------------- 30.7/75.3 kB 262.6 kB/s eta 0:00:01\n",
      "   -------------------------------- ------- 61.4/75.3 kB 409.6 kB/s eta 0:00:01\n",
      "   -------------------------------------- - 71.7/75.3 kB 357.2 kB/s eta 0:00:01\n",
      "   ---------------------------------------- 75.3/75.3 kB 278.2 kB/s eta 0:00:00\n",
      "Installing collected packages: simplejson, forex_python\n",
      "Successfully installed forex_python-1.8 simplejson-3.19.2\n",
      "Note: you may need to restart the kernel to use updated packages.\n"
     ]
    }
   ],
   "source": [
    "pip install forex_python"
   ]
  },
  {
   "cell_type": "code",
   "execution_count": 6,
   "id": "e4db10e8",
   "metadata": {},
   "outputs": [
    {
     "name": "stdout",
     "output_type": "stream",
     "text": [
      "Enter the amount: 1\n",
      "From Currency: USD\n",
      "To Currency: EUR\n",
      "USD  To  EUR 1\n",
      "0.9372071227741331\n"
     ]
    }
   ],
   "source": [
    "from forex_python.converter import CurrencyRates\n",
    "c = CurrencyRates()\n",
    "amount = int(input(\"Enter the amount: \"))\n",
    "from_currency = input(\"From Currency: \").upper()\n",
    "to_currency = input(\"To Currency: \").upper()\n",
    "\n",
    "print(from_currency, \" To \", to_currency, amount)\n",
    "result = c.convert(from_currency, to_currency, amount)\n",
    "print(result)"
   ]
  },
  {
   "cell_type": "code",
   "execution_count": null,
   "id": "b80b9eeb",
   "metadata": {},
   "outputs": [],
   "source": []
  }
 ],
 "metadata": {
  "kernelspec": {
   "display_name": "Python 3 (ipykernel)",
   "language": "python",
   "name": "python3"
  },
  "language_info": {
   "codemirror_mode": {
    "name": "ipython",
    "version": 3
   },
   "file_extension": ".py",
   "mimetype": "text/x-python",
   "name": "python",
   "nbconvert_exporter": "python",
   "pygments_lexer": "ipython3",
   "version": "3.11.5"
  }
 },
 "nbformat": 4,
 "nbformat_minor": 5
}
