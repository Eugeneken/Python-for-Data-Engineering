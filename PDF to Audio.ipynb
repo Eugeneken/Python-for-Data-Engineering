{
 "cells": [
  {
   "cell_type": "markdown",
   "id": "38eb1339",
   "metadata": {},
   "source": [
    "# PDF to Audio using Python"
   ]
  },
  {
   "cell_type": "code",
   "execution_count": 3,
   "id": "65014e08",
   "metadata": {},
   "outputs": [
    {
     "ename": "SyntaxError",
     "evalue": "invalid syntax (2488541867.py, line 1)",
     "output_type": "error",
     "traceback": [
      "\u001b[1;36m  Cell \u001b[1;32mIn[3], line 1\u001b[1;36m\u001b[0m\n\u001b[1;33m    pip install PyPDF2\u001b[0m\n\u001b[1;37m        ^\u001b[0m\n\u001b[1;31mSyntaxError\u001b[0m\u001b[1;31m:\u001b[0m invalid syntax\n"
     ]
    }
   ],
   "source": [
    "pip install PyPDF2\n",
    "pip install pyttsx3\n"
   ]
  },
  {
   "cell_type": "code",
   "execution_count": 2,
   "id": "972f9f8f",
   "metadata": {},
   "outputs": [
    {
     "ename": "ModuleNotFoundError",
     "evalue": "No module named 'PyPDF2'",
     "output_type": "error",
     "traceback": [
      "\u001b[1;31m---------------------------------------------------------------------------\u001b[0m",
      "\u001b[1;31mModuleNotFoundError\u001b[0m                       Traceback (most recent call last)",
      "Cell \u001b[1;32mIn[2], line 1\u001b[0m\n\u001b[1;32m----> 1\u001b[0m \u001b[38;5;28;01mimport\u001b[39;00m \u001b[38;5;21;01mPyPDF2\u001b[39;00m\u001b[38;5;241m,\u001b[39m\u001b[38;5;21;01mpyttsx3\u001b[39;00m\n\u001b[0;32m      3\u001b[0m path \u001b[38;5;241m=\u001b[39m \u001b[38;5;28mopen\u001b[39m(\u001b[38;5;124m'\u001b[39m\u001b[38;5;124mclcoding.pdf\u001b[39m\u001b[38;5;124m'\u001b[39m, \u001b[38;5;124m'\u001b[39m\u001b[38;5;124mrb\u001b[39m\u001b[38;5;124m'\u001b[39m)\n\u001b[0;32m      5\u001b[0m pdfReader \u001b[38;5;241m=\u001b[39m PyPDF2\u001b[38;5;241m.\u001b[39mPdfFileReader(path)\n",
      "\u001b[1;31mModuleNotFoundError\u001b[0m: No module named 'PyPDF2'"
     ]
    }
   ],
   "source": [
    "ath = open('clcoding.pdf', 'rb')\n",
    "\n",
    "pdfReader = PyPDF2.PdfFileReader(path)\n",
    "\n",
    "speak = pyttsx3.init()\n",
    "\n",
    "for pages in range(pdfReader.numPages):\n",
    "    text = pdfReader.getPage(pages).extractText()\n",
    "    speak.say(text)\n",
    "    speak.runAndWait()\n",
    "speak.stop()"
   ]
  },
  {
   "cell_type": "code",
   "execution_count": null,
   "id": "1c550aab",
   "metadata": {},
   "outputs": [],
   "source": []
  }
 ],
 "metadata": {
  "kernelspec": {
   "display_name": "Python 3 (ipykernel)",
   "language": "python",
   "name": "python3"
  },
  "language_info": {
   "codemirror_mode": {
    "name": "ipython",
    "version": 3
   },
   "file_extension": ".py",
   "mimetype": "text/x-python",
   "name": "python",
   "nbconvert_exporter": "python",
   "pygments_lexer": "ipython3",
   "version": "3.11.5"
  }
 },
 "nbformat": 4,
 "nbformat_minor": 5
}
