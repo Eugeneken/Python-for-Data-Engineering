{
 "cells": [
  {
   "cell_type": "code",
   "execution_count": 1,
   "id": "f7f6a9dd",
   "metadata": {},
   "outputs": [
    {
     "name": "stdout",
     "output_type": "stream",
     "text": [
      "Requirement already satisfied: yt-dlp in c:\\users\\keneu\\anaconda3\\lib\\site-packages (2023.11.16)\n",
      "Requirement already satisfied: mutagen in c:\\users\\keneu\\anaconda3\\lib\\site-packages (from yt-dlp) (1.47.0)\n",
      "Requirement already satisfied: pycryptodomex in c:\\users\\keneu\\anaconda3\\lib\\site-packages (from yt-dlp) (3.19.0)\n",
      "Requirement already satisfied: websockets in c:\\users\\keneu\\anaconda3\\lib\\site-packages (from yt-dlp) (12.0)\n",
      "Requirement already satisfied: certifi in c:\\users\\keneu\\anaconda3\\lib\\site-packages (from yt-dlp) (2023.11.17)\n",
      "Requirement already satisfied: requests<3,>=2.31.0 in c:\\users\\keneu\\anaconda3\\lib\\site-packages (from yt-dlp) (2.31.0)\n",
      "Requirement already satisfied: urllib3<3,>=1.26.17 in c:\\users\\keneu\\anaconda3\\lib\\site-packages (from yt-dlp) (2.1.0)\n",
      "Requirement already satisfied: brotli in c:\\users\\keneu\\anaconda3\\lib\\site-packages (from yt-dlp) (1.1.0)\n",
      "Requirement already satisfied: charset-normalizer<4,>=2 in c:\\users\\keneu\\anaconda3\\lib\\site-packages (from requests<3,>=2.31.0->yt-dlp) (2.0.4)\n",
      "Requirement already satisfied: idna<4,>=2.5 in c:\\users\\keneu\\anaconda3\\lib\\site-packages (from requests<3,>=2.31.0->yt-dlp) (3.4)\n",
      "Note: you may need to restart the kernel to use updated packages.\n"
     ]
    }
   ],
   "source": [
    "pip install yt-dlp"
   ]
  },
  {
   "cell_type": "code",
   "execution_count": null,
   "id": "2efd9c5d",
   "metadata": {},
   "outputs": [
    {
     "name": "stdout",
     "output_type": "stream",
     "text": [
      "Enter video url: https://youtu.be/TThbYNAUGv8?si=Y7dhaNAfsMd3hFRA\n",
      "[youtube] Extracting URL: https://youtu.be/TThbYNAUGv8?si=Y7dhaNAfsMd3hFRA\n",
      "[youtube] TThbYNAUGv8: Downloading webpage\n"
     ]
    }
   ],
   "source": [
    "import yt_dlp\n",
    "\n",
    "url = input(\"Enter video url: \")\n",
    "\n",
    "ydl_opts = {}\n",
    "\n",
    "with yt_dlp.YoutubeDL(ydl_opts) as ydl:\n",
    "    ydl.download([url])\n",
    "\n",
    "print(\"Video downloaded succesfully\")"
   ]
  },
  {
   "cell_type": "code",
   "execution_count": null,
   "id": "c927fdd5",
   "metadata": {},
   "outputs": [],
   "source": []
  }
 ],
 "metadata": {
  "kernelspec": {
   "display_name": "Python 3 (ipykernel)",
   "language": "python",
   "name": "python3"
  },
  "language_info": {
   "codemirror_mode": {
    "name": "ipython",
    "version": 3
   },
   "file_extension": ".py",
   "mimetype": "text/x-python",
   "name": "python",
   "nbconvert_exporter": "python",
   "pygments_lexer": "ipython3",
   "version": "3.11.5"
  }
 },
 "nbformat": 4,
 "nbformat_minor": 5
}
