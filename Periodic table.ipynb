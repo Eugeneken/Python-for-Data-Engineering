{
 "cells": [
  {
   "cell_type": "code",
   "execution_count": 1,
   "id": "ae5123fe",
   "metadata": {},
   "outputs": [
    {
     "name": "stdout",
     "output_type": "stream",
     "text": [
      "Requirement already satisfied: periodictable in c:\\users\\keneu\\appdata\\local\\anaconda3\\lib\\site-packages (1.6.1)\n",
      "Requirement already satisfied: pyparsing in c:\\users\\keneu\\appdata\\local\\anaconda3\\lib\\site-packages (from periodictable) (3.0.9)\n",
      "Requirement already satisfied: numpy in c:\\users\\keneu\\appdata\\local\\anaconda3\\lib\\site-packages (from periodictable) (1.24.3)\n",
      "Note: you may need to restart the kernel to use updated packages.\n"
     ]
    }
   ],
   "source": [
    "pip install periodictable"
   ]
  },
  {
   "cell_type": "code",
   "execution_count": 2,
   "id": "50d06cbf",
   "metadata": {},
   "outputs": [
    {
     "name": "stdout",
     "output_type": "stream",
     "text": [
      "Enter Element Atomic No :4\n",
      "Atomic number: 4\n",
      "Symbol: Be\n",
      "Name: beryllium\n",
      "Atomic Mass: 9.012182\n",
      "Density: 1.848\n"
     ]
    }
   ],
   "source": [
    "import periodictable\n",
    "\n",
    "atomic_No = int(input(\"Enter Element Atomic No :\"))\n",
    "element = periodictable.elements[atomic_No]\n",
    "print('Atomic number:', element.number)\n",
    "print('Symbol:', element.symbol)\n",
    "print('Name:', element.name)\n",
    "print('Atomic Mass:', element.mass)\n",
    "print('Density:', element.density)"
   ]
  },
  {
   "cell_type": "code",
   "execution_count": null,
   "id": "311461c5",
   "metadata": {},
   "outputs": [],
   "source": []
  },
  {
   "cell_type": "code",
   "execution_count": null,
   "id": "0b558b69",
   "metadata": {},
   "outputs": [],
   "source": []
  },
  {
   "cell_type": "code",
   "execution_count": null,
   "id": "76c0e215",
   "metadata": {},
   "outputs": [],
   "source": []
  },
  {
   "cell_type": "code",
   "execution_count": null,
   "id": "01aaa608",
   "metadata": {},
   "outputs": [],
   "source": []
  },
  {
   "cell_type": "raw",
   "id": "9598fabe",
   "metadata": {},
   "source": []
  }
 ],
 "metadata": {
  "kernelspec": {
   "display_name": "Python 3 (ipykernel)",
   "language": "python",
   "name": "python3"
  },
  "language_info": {
   "codemirror_mode": {
    "name": "ipython",
    "version": 3
   },
   "file_extension": ".py",
   "mimetype": "text/x-python",
   "name": "python",
   "nbconvert_exporter": "python",
   "pygments_lexer": "ipython3",
   "version": "3.11.5"
  }
 },
 "nbformat": 4,
 "nbformat_minor": 5
}
